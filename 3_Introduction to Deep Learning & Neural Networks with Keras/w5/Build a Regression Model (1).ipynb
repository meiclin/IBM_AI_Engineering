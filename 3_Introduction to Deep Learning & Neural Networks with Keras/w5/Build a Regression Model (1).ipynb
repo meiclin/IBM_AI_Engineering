{
 "cells": [
  {
   "cell_type": "markdown",
   "metadata": {},
   "source": [
    "# Build a Regression Model\n",
    "\n",
    "*by Mei Chiao Lin*\n",
    "\n",
    "*Jun/3rd/2020*"
   ]
  },
  {
   "cell_type": "markdown",
   "metadata": {},
   "source": [
    "### Table of Contents :\n",
    "\n",
    "Part A  -- *One* hidden layer, *non normalized data*, *50* epochs\n",
    "\n",
    "Part B -- *One* hidden layer, *normalized data*, *50* epochs\n",
    "\n",
    "Part C -- *One* hidden layer, *normalized data*, *100* epochs\n",
    "\n",
    "Part D -- *Three* hidden layers, *normalized data*, *50* epochs"
   ]
  },
  {
   "cell_type": "code",
   "execution_count": 1,
   "metadata": {},
   "outputs": [
    {
     "name": "stderr",
     "output_type": "stream",
     "text": [
      "Using TensorFlow backend.\n",
      "/home/jupyterlab/conda/envs/python/lib/python3.6/site-packages/tensorflow/python/framework/dtypes.py:519: FutureWarning: Passing (type, 1) or '1type' as a synonym of type is deprecated; in a future version of numpy, it will be understood as (type, (1,)) / '(1,)type'.\n",
      "  _np_qint8 = np.dtype([(\"qint8\", np.int8, 1)])\n",
      "/home/jupyterlab/conda/envs/python/lib/python3.6/site-packages/tensorflow/python/framework/dtypes.py:520: FutureWarning: Passing (type, 1) or '1type' as a synonym of type is deprecated; in a future version of numpy, it will be understood as (type, (1,)) / '(1,)type'.\n",
      "  _np_quint8 = np.dtype([(\"quint8\", np.uint8, 1)])\n",
      "/home/jupyterlab/conda/envs/python/lib/python3.6/site-packages/tensorflow/python/framework/dtypes.py:521: FutureWarning: Passing (type, 1) or '1type' as a synonym of type is deprecated; in a future version of numpy, it will be understood as (type, (1,)) / '(1,)type'.\n",
      "  _np_qint16 = np.dtype([(\"qint16\", np.int16, 1)])\n",
      "/home/jupyterlab/conda/envs/python/lib/python3.6/site-packages/tensorflow/python/framework/dtypes.py:522: FutureWarning: Passing (type, 1) or '1type' as a synonym of type is deprecated; in a future version of numpy, it will be understood as (type, (1,)) / '(1,)type'.\n",
      "  _np_quint16 = np.dtype([(\"quint16\", np.uint16, 1)])\n",
      "/home/jupyterlab/conda/envs/python/lib/python3.6/site-packages/tensorflow/python/framework/dtypes.py:523: FutureWarning: Passing (type, 1) or '1type' as a synonym of type is deprecated; in a future version of numpy, it will be understood as (type, (1,)) / '(1,)type'.\n",
      "  _np_qint32 = np.dtype([(\"qint32\", np.int32, 1)])\n",
      "/home/jupyterlab/conda/envs/python/lib/python3.6/site-packages/tensorflow/python/framework/dtypes.py:528: FutureWarning: Passing (type, 1) or '1type' as a synonym of type is deprecated; in a future version of numpy, it will be understood as (type, (1,)) / '(1,)type'.\n",
      "  np_resource = np.dtype([(\"resource\", np.ubyte, 1)])\n"
     ]
    }
   ],
   "source": [
    "import keras"
   ]
  },
  {
   "cell_type": "code",
   "execution_count": 2,
   "metadata": {},
   "outputs": [],
   "source": [
    "import pandas as pd\n",
    "import numpy as np"
   ]
  },
  {
   "cell_type": "code",
   "execution_count": 3,
   "metadata": {},
   "outputs": [],
   "source": [
    "from sklearn.model_selection import train_test_split"
   ]
  },
  {
   "cell_type": "markdown",
   "metadata": {},
   "source": [
    "### Part A "
   ]
  },
  {
   "cell_type": "code",
   "execution_count": 5,
   "metadata": {},
   "outputs": [
    {
     "data": {
      "text/html": [
       "<div>\n",
       "<style scoped>\n",
       "    .dataframe tbody tr th:only-of-type {\n",
       "        vertical-align: middle;\n",
       "    }\n",
       "\n",
       "    .dataframe tbody tr th {\n",
       "        vertical-align: top;\n",
       "    }\n",
       "\n",
       "    .dataframe thead th {\n",
       "        text-align: right;\n",
       "    }\n",
       "</style>\n",
       "<table border=\"1\" class=\"dataframe\">\n",
       "  <thead>\n",
       "    <tr style=\"text-align: right;\">\n",
       "      <th></th>\n",
       "      <th>Cement</th>\n",
       "      <th>Blast Furnace Slag</th>\n",
       "      <th>Fly Ash</th>\n",
       "      <th>Water</th>\n",
       "      <th>Superplasticizer</th>\n",
       "      <th>Coarse Aggregate</th>\n",
       "      <th>Fine Aggregate</th>\n",
       "      <th>Age</th>\n",
       "      <th>Strength</th>\n",
       "    </tr>\n",
       "  </thead>\n",
       "  <tbody>\n",
       "    <tr>\n",
       "      <th>0</th>\n",
       "      <td>540.0</td>\n",
       "      <td>0.0</td>\n",
       "      <td>0.0</td>\n",
       "      <td>162.0</td>\n",
       "      <td>2.5</td>\n",
       "      <td>1040.0</td>\n",
       "      <td>676.0</td>\n",
       "      <td>28</td>\n",
       "      <td>79.99</td>\n",
       "    </tr>\n",
       "    <tr>\n",
       "      <th>1</th>\n",
       "      <td>540.0</td>\n",
       "      <td>0.0</td>\n",
       "      <td>0.0</td>\n",
       "      <td>162.0</td>\n",
       "      <td>2.5</td>\n",
       "      <td>1055.0</td>\n",
       "      <td>676.0</td>\n",
       "      <td>28</td>\n",
       "      <td>61.89</td>\n",
       "    </tr>\n",
       "    <tr>\n",
       "      <th>2</th>\n",
       "      <td>332.5</td>\n",
       "      <td>142.5</td>\n",
       "      <td>0.0</td>\n",
       "      <td>228.0</td>\n",
       "      <td>0.0</td>\n",
       "      <td>932.0</td>\n",
       "      <td>594.0</td>\n",
       "      <td>270</td>\n",
       "      <td>40.27</td>\n",
       "    </tr>\n",
       "    <tr>\n",
       "      <th>3</th>\n",
       "      <td>332.5</td>\n",
       "      <td>142.5</td>\n",
       "      <td>0.0</td>\n",
       "      <td>228.0</td>\n",
       "      <td>0.0</td>\n",
       "      <td>932.0</td>\n",
       "      <td>594.0</td>\n",
       "      <td>365</td>\n",
       "      <td>41.05</td>\n",
       "    </tr>\n",
       "    <tr>\n",
       "      <th>4</th>\n",
       "      <td>198.6</td>\n",
       "      <td>132.4</td>\n",
       "      <td>0.0</td>\n",
       "      <td>192.0</td>\n",
       "      <td>0.0</td>\n",
       "      <td>978.4</td>\n",
       "      <td>825.5</td>\n",
       "      <td>360</td>\n",
       "      <td>44.30</td>\n",
       "    </tr>\n",
       "  </tbody>\n",
       "</table>\n",
       "</div>"
      ],
      "text/plain": [
       "   Cement  Blast Furnace Slag  Fly Ash  Water  Superplasticizer  \\\n",
       "0   540.0                 0.0      0.0  162.0               2.5   \n",
       "1   540.0                 0.0      0.0  162.0               2.5   \n",
       "2   332.5               142.5      0.0  228.0               0.0   \n",
       "3   332.5               142.5      0.0  228.0               0.0   \n",
       "4   198.6               132.4      0.0  192.0               0.0   \n",
       "\n",
       "   Coarse Aggregate  Fine Aggregate  Age  Strength  \n",
       "0            1040.0           676.0   28     79.99  \n",
       "1            1055.0           676.0   28     61.89  \n",
       "2             932.0           594.0  270     40.27  \n",
       "3             932.0           594.0  365     41.05  \n",
       "4             978.4           825.5  360     44.30  "
      ]
     },
     "execution_count": 5,
     "metadata": {},
     "output_type": "execute_result"
    }
   ],
   "source": [
    "concrete_data = pd.read_csv('https://s3-api.us-geo.objectstorage.softlayer.net/cf-courses-data/CognitiveClass/DL0101EN/labs/data/concrete_data.csv')\n",
    "concrete_data.head()"
   ]
  },
  {
   "cell_type": "code",
   "execution_count": 6,
   "metadata": {},
   "outputs": [
    {
     "data": {
      "text/plain": [
       "(1030, 9)"
      ]
     },
     "execution_count": 6,
     "metadata": {},
     "output_type": "execute_result"
    }
   ],
   "source": [
    "concrete_data.shape"
   ]
  },
  {
   "cell_type": "code",
   "execution_count": 7,
   "metadata": {},
   "outputs": [
    {
     "data": {
      "text/html": [
       "<div>\n",
       "<style scoped>\n",
       "    .dataframe tbody tr th:only-of-type {\n",
       "        vertical-align: middle;\n",
       "    }\n",
       "\n",
       "    .dataframe tbody tr th {\n",
       "        vertical-align: top;\n",
       "    }\n",
       "\n",
       "    .dataframe thead th {\n",
       "        text-align: right;\n",
       "    }\n",
       "</style>\n",
       "<table border=\"1\" class=\"dataframe\">\n",
       "  <thead>\n",
       "    <tr style=\"text-align: right;\">\n",
       "      <th></th>\n",
       "      <th>Cement</th>\n",
       "      <th>Blast Furnace Slag</th>\n",
       "      <th>Fly Ash</th>\n",
       "      <th>Water</th>\n",
       "      <th>Superplasticizer</th>\n",
       "      <th>Coarse Aggregate</th>\n",
       "      <th>Fine Aggregate</th>\n",
       "      <th>Age</th>\n",
       "      <th>Strength</th>\n",
       "    </tr>\n",
       "  </thead>\n",
       "  <tbody>\n",
       "    <tr>\n",
       "      <th>count</th>\n",
       "      <td>1030.000000</td>\n",
       "      <td>1030.000000</td>\n",
       "      <td>1030.000000</td>\n",
       "      <td>1030.000000</td>\n",
       "      <td>1030.000000</td>\n",
       "      <td>1030.000000</td>\n",
       "      <td>1030.000000</td>\n",
       "      <td>1030.000000</td>\n",
       "      <td>1030.000000</td>\n",
       "    </tr>\n",
       "    <tr>\n",
       "      <th>mean</th>\n",
       "      <td>281.167864</td>\n",
       "      <td>73.895825</td>\n",
       "      <td>54.188350</td>\n",
       "      <td>181.567282</td>\n",
       "      <td>6.204660</td>\n",
       "      <td>972.918932</td>\n",
       "      <td>773.580485</td>\n",
       "      <td>45.662136</td>\n",
       "      <td>35.817961</td>\n",
       "    </tr>\n",
       "    <tr>\n",
       "      <th>std</th>\n",
       "      <td>104.506364</td>\n",
       "      <td>86.279342</td>\n",
       "      <td>63.997004</td>\n",
       "      <td>21.354219</td>\n",
       "      <td>5.973841</td>\n",
       "      <td>77.753954</td>\n",
       "      <td>80.175980</td>\n",
       "      <td>63.169912</td>\n",
       "      <td>16.705742</td>\n",
       "    </tr>\n",
       "    <tr>\n",
       "      <th>min</th>\n",
       "      <td>102.000000</td>\n",
       "      <td>0.000000</td>\n",
       "      <td>0.000000</td>\n",
       "      <td>121.800000</td>\n",
       "      <td>0.000000</td>\n",
       "      <td>801.000000</td>\n",
       "      <td>594.000000</td>\n",
       "      <td>1.000000</td>\n",
       "      <td>2.330000</td>\n",
       "    </tr>\n",
       "    <tr>\n",
       "      <th>25%</th>\n",
       "      <td>192.375000</td>\n",
       "      <td>0.000000</td>\n",
       "      <td>0.000000</td>\n",
       "      <td>164.900000</td>\n",
       "      <td>0.000000</td>\n",
       "      <td>932.000000</td>\n",
       "      <td>730.950000</td>\n",
       "      <td>7.000000</td>\n",
       "      <td>23.710000</td>\n",
       "    </tr>\n",
       "    <tr>\n",
       "      <th>50%</th>\n",
       "      <td>272.900000</td>\n",
       "      <td>22.000000</td>\n",
       "      <td>0.000000</td>\n",
       "      <td>185.000000</td>\n",
       "      <td>6.400000</td>\n",
       "      <td>968.000000</td>\n",
       "      <td>779.500000</td>\n",
       "      <td>28.000000</td>\n",
       "      <td>34.445000</td>\n",
       "    </tr>\n",
       "    <tr>\n",
       "      <th>75%</th>\n",
       "      <td>350.000000</td>\n",
       "      <td>142.950000</td>\n",
       "      <td>118.300000</td>\n",
       "      <td>192.000000</td>\n",
       "      <td>10.200000</td>\n",
       "      <td>1029.400000</td>\n",
       "      <td>824.000000</td>\n",
       "      <td>56.000000</td>\n",
       "      <td>46.135000</td>\n",
       "    </tr>\n",
       "    <tr>\n",
       "      <th>max</th>\n",
       "      <td>540.000000</td>\n",
       "      <td>359.400000</td>\n",
       "      <td>200.100000</td>\n",
       "      <td>247.000000</td>\n",
       "      <td>32.200000</td>\n",
       "      <td>1145.000000</td>\n",
       "      <td>992.600000</td>\n",
       "      <td>365.000000</td>\n",
       "      <td>82.600000</td>\n",
       "    </tr>\n",
       "  </tbody>\n",
       "</table>\n",
       "</div>"
      ],
      "text/plain": [
       "            Cement  Blast Furnace Slag      Fly Ash        Water  \\\n",
       "count  1030.000000         1030.000000  1030.000000  1030.000000   \n",
       "mean    281.167864           73.895825    54.188350   181.567282   \n",
       "std     104.506364           86.279342    63.997004    21.354219   \n",
       "min     102.000000            0.000000     0.000000   121.800000   \n",
       "25%     192.375000            0.000000     0.000000   164.900000   \n",
       "50%     272.900000           22.000000     0.000000   185.000000   \n",
       "75%     350.000000          142.950000   118.300000   192.000000   \n",
       "max     540.000000          359.400000   200.100000   247.000000   \n",
       "\n",
       "       Superplasticizer  Coarse Aggregate  Fine Aggregate          Age  \\\n",
       "count       1030.000000       1030.000000     1030.000000  1030.000000   \n",
       "mean           6.204660        972.918932      773.580485    45.662136   \n",
       "std            5.973841         77.753954       80.175980    63.169912   \n",
       "min            0.000000        801.000000      594.000000     1.000000   \n",
       "25%            0.000000        932.000000      730.950000     7.000000   \n",
       "50%            6.400000        968.000000      779.500000    28.000000   \n",
       "75%           10.200000       1029.400000      824.000000    56.000000   \n",
       "max           32.200000       1145.000000      992.600000   365.000000   \n",
       "\n",
       "          Strength  \n",
       "count  1030.000000  \n",
       "mean     35.817961  \n",
       "std      16.705742  \n",
       "min       2.330000  \n",
       "25%      23.710000  \n",
       "50%      34.445000  \n",
       "75%      46.135000  \n",
       "max      82.600000  "
      ]
     },
     "execution_count": 7,
     "metadata": {},
     "output_type": "execute_result"
    }
   ],
   "source": [
    "concrete_data.describe()"
   ]
  },
  {
   "cell_type": "code",
   "execution_count": 8,
   "metadata": {},
   "outputs": [
    {
     "data": {
      "text/plain": [
       "Cement                0\n",
       "Blast Furnace Slag    0\n",
       "Fly Ash               0\n",
       "Water                 0\n",
       "Superplasticizer      0\n",
       "Coarse Aggregate      0\n",
       "Fine Aggregate        0\n",
       "Age                   0\n",
       "Strength              0\n",
       "dtype: int64"
      ]
     },
     "execution_count": 8,
     "metadata": {},
     "output_type": "execute_result"
    }
   ],
   "source": [
    "concrete_data.isnull().sum()"
   ]
  },
  {
   "cell_type": "markdown",
   "metadata": {},
   "source": [
    "#### Splitting the data"
   ]
  },
  {
   "cell_type": "code",
   "execution_count": 9,
   "metadata": {},
   "outputs": [],
   "source": [
    "concrete_data_columns = concrete_data.columns\n",
    "X = concrete_data[concrete_data_columns[concrete_data_columns != 'Strength']] # all columns except Strength\n",
    "y = concrete_data['Strength'] # Strength column\n",
    "n_cols=X.shape[1]"
   ]
  },
  {
   "cell_type": "code",
   "execution_count": 10,
   "metadata": {},
   "outputs": [],
   "source": [
    "#Split the data into training dataset and testing dataset with 30% test dataset\n",
    "X_train, X_test, y_train, y_test = train_test_split(X, y, test_size=0.3)"
   ]
  },
  {
   "cell_type": "markdown",
   "metadata": {},
   "source": [
    "#### Building the model"
   ]
  },
  {
   "cell_type": "code",
   "execution_count": 11,
   "metadata": {},
   "outputs": [],
   "source": [
    "from keras.models import Sequential\n",
    "from keras.layers import Dense"
   ]
  },
  {
   "cell_type": "code",
   "execution_count": 12,
   "metadata": {},
   "outputs": [],
   "source": [
    "#One hidden layer with 10 nodes and relu function\n",
    "#adam optimizer and mean_squared_error as loss function\n",
    "def regression_model():\n",
    "    # create model\n",
    "    model = Sequential()\n",
    "    model.add(Dense(10, activation='relu', input_shape=(n_cols,)))\n",
    "    model.add(Dense(1))\n",
    "    \n",
    "    # compile model\n",
    "    model.compile(optimizer='adam', loss='mean_squared_error')\n",
    "    return model"
   ]
  },
  {
   "cell_type": "markdown",
   "metadata": {},
   "source": [
    "#### Training"
   ]
  },
  {
   "cell_type": "code",
   "execution_count": 13,
   "metadata": {},
   "outputs": [],
   "source": [
    "#build the model\n",
    "model = regression_model()"
   ]
  },
  {
   "cell_type": "code",
   "execution_count": 14,
   "metadata": {},
   "outputs": [
    {
     "name": "stdout",
     "output_type": "stream",
     "text": [
      "Epoch 1/50\n",
      "721/721 [==============================] - 1s 1ms/step - loss: 9136.4616\n",
      "Epoch 2/50\n",
      "721/721 [==============================] - 0s 390us/step - loss: 3158.3067\n",
      "Epoch 3/50\n",
      "721/721 [==============================] - 0s 556us/step - loss: 1679.4293\n",
      "Epoch 4/50\n",
      "721/721 [==============================] - 0s 334us/step - loss: 1000.2133\n",
      "Epoch 5/50\n",
      "721/721 [==============================] - 0s 337us/step - loss: 697.1460\n",
      "Epoch 6/50\n",
      "721/721 [==============================] - 0s 437us/step - loss: 546.9823 0s - loss: 585.\n",
      "Epoch 7/50\n",
      "721/721 [==============================] - 0s 358us/step - loss: 442.1243\n",
      "Epoch 8/50\n",
      "721/721 [==============================] - 0s 390us/step - loss: 374.2579\n",
      "Epoch 9/50\n",
      "721/721 [==============================] - 0s 641us/step - loss: 327.0696\n",
      "Epoch 10/50\n",
      "721/721 [==============================] - 0s 386us/step - loss: 288.3627\n",
      "Epoch 11/50\n",
      "721/721 [==============================] - 0s 387us/step - loss: 260.3845\n",
      "Epoch 12/50\n",
      "721/721 [==============================] - 0s 362us/step - loss: 238.0115\n",
      "Epoch 13/50\n",
      "721/721 [==============================] - 0s 611us/step - loss: 223.4459\n",
      "Epoch 14/50\n",
      "721/721 [==============================] - 0s 393us/step - loss: 209.8207\n",
      "Epoch 15/50\n",
      "721/721 [==============================] - 0s 410us/step - loss: 196.3474\n",
      "Epoch 16/50\n",
      "721/721 [==============================] - 0s 362us/step - loss: 188.7994\n",
      "Epoch 17/50\n",
      "721/721 [==============================] - 0s 448us/step - loss: 178.3973\n",
      "Epoch 18/50\n",
      "721/721 [==============================] - 0s 361us/step - loss: 170.0365\n",
      "Epoch 19/50\n",
      "721/721 [==============================] - 0s 334us/step - loss: 164.4872\n",
      "Epoch 20/50\n",
      "721/721 [==============================] - 0s 334us/step - loss: 158.0207\n",
      "Epoch 21/50\n",
      "721/721 [==============================] - 0s 354us/step - loss: 154.4200\n",
      "Epoch 22/50\n",
      "721/721 [==============================] - 0s 693us/step - loss: 150.1797\n",
      "Epoch 23/50\n",
      "721/721 [==============================] - 1s 695us/step - loss: 147.8960\n",
      "Epoch 24/50\n",
      "721/721 [==============================] - 0s 494us/step - loss: 145.1864\n",
      "Epoch 25/50\n",
      "721/721 [==============================] - 0s 388us/step - loss: 142.3146\n",
      "Epoch 26/50\n",
      "721/721 [==============================] - 0s 387us/step - loss: 140.5935\n",
      "Epoch 27/50\n",
      "721/721 [==============================] - 0s 388us/step - loss: 138.3703\n",
      "Epoch 28/50\n",
      "721/721 [==============================] - 0s 389us/step - loss: 137.4448\n",
      "Epoch 29/50\n",
      "721/721 [==============================] - 0s 413us/step - loss: 136.2828\n",
      "Epoch 30/50\n",
      "721/721 [==============================] - 0s 328us/step - loss: 134.1332\n",
      "Epoch 31/50\n",
      "721/721 [==============================] - 0s 365us/step - loss: 134.0254 0s - loss: 137.066\n",
      "Epoch 32/50\n",
      "721/721 [==============================] - 0s 380us/step - loss: 132.3202\n",
      "Epoch 33/50\n",
      "721/721 [==============================] - 0s 386us/step - loss: 130.1258\n",
      "Epoch 34/50\n",
      "721/721 [==============================] - 0s 415us/step - loss: 130.6702\n",
      "Epoch 35/50\n",
      "721/721 [==============================] - 0s 335us/step - loss: 128.6048\n",
      "Epoch 36/50\n",
      "721/721 [==============================] - 0s 589us/step - loss: 128.9806\n",
      "Epoch 37/50\n",
      "721/721 [==============================] - 0s 420us/step - loss: 127.4834\n",
      "Epoch 38/50\n",
      "721/721 [==============================] - 0s 336us/step - loss: 129.8290\n",
      "Epoch 39/50\n",
      "721/721 [==============================] - 0s 386us/step - loss: 124.6113\n",
      "Epoch 40/50\n",
      "721/721 [==============================] - 0s 383us/step - loss: 126.8124\n",
      "Epoch 41/50\n",
      "721/721 [==============================] - 0s 392us/step - loss: 126.5417\n",
      "Epoch 42/50\n",
      "721/721 [==============================] - ETA: 0s - loss: 124.682 - 0s 385us/step - loss: 124.5923\n",
      "Epoch 43/50\n",
      "721/721 [==============================] - 0s 411us/step - loss: 123.3137\n",
      "Epoch 44/50\n",
      "721/721 [==============================] - 0s 391us/step - loss: 122.9109\n",
      "Epoch 45/50\n",
      "721/721 [==============================] - 0s 446us/step - loss: 123.0257\n",
      "Epoch 46/50\n",
      "721/721 [==============================] - 0s 418us/step - loss: 123.2929\n",
      "Epoch 47/50\n",
      "721/721 [==============================] - 0s 389us/step - loss: 122.1341\n",
      "Epoch 48/50\n",
      "721/721 [==============================] - 0s 393us/step - loss: 121.0937\n",
      "Epoch 49/50\n",
      "721/721 [==============================] - 0s 583us/step - loss: 120.9157\n",
      "Epoch 50/50\n",
      "721/721 [==============================] - 0s 386us/step - loss: 121.6887\n"
     ]
    },
    {
     "data": {
      "text/plain": [
       "<keras.callbacks.History at 0x7fb5b43bb3c8>"
      ]
     },
     "execution_count": 14,
     "metadata": {},
     "output_type": "execute_result"
    }
   ],
   "source": [
    "#fitting data to the model with 50 epoch\n",
    "model.fit(X_train, y_train, epochs=50)"
   ]
  },
  {
   "cell_type": "code",
   "execution_count": 15,
   "metadata": {},
   "outputs": [
    {
     "name": "stdout",
     "output_type": "stream",
     "text": [
      "309/309 [==============================] - 0s 343us/step\n"
     ]
    }
   ],
   "source": [
    "#evaluate the model\n",
    "evaluated_score = model.evaluate(X_test, y_test, verbose=1)"
   ]
  },
  {
   "cell_type": "code",
   "execution_count": 16,
   "metadata": {},
   "outputs": [],
   "source": [
    "y_predict=model.predict(X_test)"
   ]
  },
  {
   "cell_type": "code",
   "execution_count": 17,
   "metadata": {},
   "outputs": [],
   "source": [
    "from sklearn.metrics import mean_squared_error"
   ]
  },
  {
   "cell_type": "code",
   "execution_count": 18,
   "metadata": {},
   "outputs": [],
   "source": [
    "squared_error_score = mean_squared_error(y_test, y_predict)"
   ]
  },
  {
   "cell_type": "markdown",
   "metadata": {},
   "source": [
    "#### Repeat 50 times"
   ]
  },
  {
   "cell_type": "code",
   "execution_count": 19,
   "metadata": {},
   "outputs": [],
   "source": [
    "#Repeat 50 times\n",
    "error_score=[]\n",
    "for i in range(50):\n",
    "    model.fit(X_train, y_train, epochs=50, verbose=0)\n",
    "    y_predict=model.predict(X_test)\n",
    "    error_score.append(mean_squared_error(y_test,y_predict))"
   ]
  },
  {
   "cell_type": "code",
   "execution_count": 20,
   "metadata": {},
   "outputs": [
    {
     "name": "stdout",
     "output_type": "stream",
     "text": [
      "The mean of mean_squared_error is : 56.725\n",
      "The standard deviation of mean_squared_error is : 23.793\n"
     ]
    }
   ],
   "source": [
    "Mean = np.mean(error_score)\n",
    "Std = np.std(error_score)\n",
    "print('The mean of mean_squared_error is : {:.3f}\\nThe standard deviation of mean_squared_error is : {:.3f}'.format(Mean, Std))"
   ]
  },
  {
   "cell_type": "markdown",
   "metadata": {},
   "source": [
    "## Part B _ Normalization"
   ]
  },
  {
   "cell_type": "code",
   "execution_count": 21,
   "metadata": {},
   "outputs": [],
   "source": [
    "#Normalization part by mean and standard deviation\n",
    "X_nor = (X-np.mean(X))/np.std(X)\n",
    "y_nor = (y-np.mean(y))/np.std(y)"
   ]
  },
  {
   "cell_type": "code",
   "execution_count": 22,
   "metadata": {},
   "outputs": [
    {
     "data": {
      "text/html": [
       "<div>\n",
       "<style scoped>\n",
       "    .dataframe tbody tr th:only-of-type {\n",
       "        vertical-align: middle;\n",
       "    }\n",
       "\n",
       "    .dataframe tbody tr th {\n",
       "        vertical-align: top;\n",
       "    }\n",
       "\n",
       "    .dataframe thead th {\n",
       "        text-align: right;\n",
       "    }\n",
       "</style>\n",
       "<table border=\"1\" class=\"dataframe\">\n",
       "  <thead>\n",
       "    <tr style=\"text-align: right;\">\n",
       "      <th></th>\n",
       "      <th>Cement</th>\n",
       "      <th>Blast Furnace Slag</th>\n",
       "      <th>Fly Ash</th>\n",
       "      <th>Water</th>\n",
       "      <th>Superplasticizer</th>\n",
       "      <th>Coarse Aggregate</th>\n",
       "      <th>Fine Aggregate</th>\n",
       "      <th>Age</th>\n",
       "    </tr>\n",
       "  </thead>\n",
       "  <tbody>\n",
       "    <tr>\n",
       "      <th>0</th>\n",
       "      <td>2.477915</td>\n",
       "      <td>-0.856888</td>\n",
       "      <td>-0.847144</td>\n",
       "      <td>-0.916764</td>\n",
       "      <td>-0.620448</td>\n",
       "      <td>0.863154</td>\n",
       "      <td>-1.217670</td>\n",
       "      <td>-0.279733</td>\n",
       "    </tr>\n",
       "    <tr>\n",
       "      <th>1</th>\n",
       "      <td>2.477915</td>\n",
       "      <td>-0.856888</td>\n",
       "      <td>-0.847144</td>\n",
       "      <td>-0.916764</td>\n",
       "      <td>-0.620448</td>\n",
       "      <td>1.056164</td>\n",
       "      <td>-1.217670</td>\n",
       "      <td>-0.279733</td>\n",
       "    </tr>\n",
       "    <tr>\n",
       "      <th>2</th>\n",
       "      <td>0.491425</td>\n",
       "      <td>0.795526</td>\n",
       "      <td>-0.847144</td>\n",
       "      <td>2.175461</td>\n",
       "      <td>-1.039143</td>\n",
       "      <td>-0.526517</td>\n",
       "      <td>-2.240917</td>\n",
       "      <td>3.553066</td>\n",
       "    </tr>\n",
       "    <tr>\n",
       "      <th>3</th>\n",
       "      <td>0.491425</td>\n",
       "      <td>0.795526</td>\n",
       "      <td>-0.847144</td>\n",
       "      <td>2.175461</td>\n",
       "      <td>-1.039143</td>\n",
       "      <td>-0.526517</td>\n",
       "      <td>-2.240917</td>\n",
       "      <td>5.057677</td>\n",
       "    </tr>\n",
       "    <tr>\n",
       "      <th>4</th>\n",
       "      <td>-0.790459</td>\n",
       "      <td>0.678408</td>\n",
       "      <td>-0.847144</td>\n",
       "      <td>0.488793</td>\n",
       "      <td>-1.039143</td>\n",
       "      <td>0.070527</td>\n",
       "      <td>0.647884</td>\n",
       "      <td>4.978487</td>\n",
       "    </tr>\n",
       "  </tbody>\n",
       "</table>\n",
       "</div>"
      ],
      "text/plain": [
       "     Cement  Blast Furnace Slag   Fly Ash     Water  Superplasticizer  \\\n",
       "0  2.477915           -0.856888 -0.847144 -0.916764         -0.620448   \n",
       "1  2.477915           -0.856888 -0.847144 -0.916764         -0.620448   \n",
       "2  0.491425            0.795526 -0.847144  2.175461         -1.039143   \n",
       "3  0.491425            0.795526 -0.847144  2.175461         -1.039143   \n",
       "4 -0.790459            0.678408 -0.847144  0.488793         -1.039143   \n",
       "\n",
       "   Coarse Aggregate  Fine Aggregate       Age  \n",
       "0          0.863154       -1.217670 -0.279733  \n",
       "1          1.056164       -1.217670 -0.279733  \n",
       "2         -0.526517       -2.240917  3.553066  \n",
       "3         -0.526517       -2.240917  5.057677  \n",
       "4          0.070527        0.647884  4.978487  "
      ]
     },
     "execution_count": 22,
     "metadata": {},
     "output_type": "execute_result"
    }
   ],
   "source": [
    "X_nor.head()"
   ]
  },
  {
   "cell_type": "code",
   "execution_count": 23,
   "metadata": {},
   "outputs": [
    {
     "data": {
      "text/plain": [
       "0    2.645408\n",
       "1    1.561421\n",
       "2    0.266627\n",
       "3    0.313340\n",
       "4    0.507979\n",
       "Name: Strength, dtype: float64"
      ]
     },
     "execution_count": 23,
     "metadata": {},
     "output_type": "execute_result"
    }
   ],
   "source": [
    "y_nor.head()"
   ]
  },
  {
   "cell_type": "markdown",
   "metadata": {},
   "source": [
    "#### Splitting the data"
   ]
  },
  {
   "cell_type": "code",
   "execution_count": 24,
   "metadata": {},
   "outputs": [],
   "source": [
    "#Split the data into training dataset and testing dataset with 30% test dataset\n",
    "X_train_nor, X_test_nor, y_train_nor, y_test_nor = train_test_split(X_nor, y_nor, test_size=0.3)"
   ]
  },
  {
   "cell_type": "code",
   "execution_count": 25,
   "metadata": {},
   "outputs": [],
   "source": [
    "#Train and evaluate the model for 50 times.\n",
    "error_score_nor=[]\n",
    "for i in range(50):\n",
    "    model.fit(X_train_nor, y_train_nor, epochs=50, verbose=0)\n",
    "    y_predict_nor=model.predict(X_test_nor)\n",
    "    error_score_nor.append(mean_squared_error(y_test_nor,y_predict_nor))"
   ]
  },
  {
   "cell_type": "code",
   "execution_count": 26,
   "metadata": {},
   "outputs": [],
   "source": [
    "Mean_nor = np.mean(error_score_nor)\n",
    "Std_nor = np.std(error_score_nor)"
   ]
  },
  {
   "cell_type": "code",
   "execution_count": 27,
   "metadata": {},
   "outputs": [
    {
     "name": "stdout",
     "output_type": "stream",
     "text": [
      "The mean of mean_squared_error is : 56.725, while in normalized data is 0.136\n",
      "The standard deviation of mean_squared_error is : 23.793, while in normalized data is 0.035\n"
     ]
    }
   ],
   "source": [
    "print('The mean of mean_squared_error is : {:.3f}, while in normalized data is {:.3f}\\nThe standard deviation of mean_squared_error is : {:.3f}, while in normalized data is {:.3f}'.format(Mean, Mean_nor, Std, Std_nor))"
   ]
  },
  {
   "cell_type": "markdown",
   "metadata": {},
   "source": [
    "**How does the mean squared of error compared to Part A ?**\n",
    "\n",
    "The range of loss value in Part A is big, but in Part B is between 0 and 1. \n",
    "For the practical reason, the result from part B is more convenient."
   ]
  },
  {
   "cell_type": "markdown",
   "metadata": {},
   "source": [
    "## Part C _ Using 100 epochs "
   ]
  },
  {
   "cell_type": "code",
   "execution_count": 28,
   "metadata": {},
   "outputs": [],
   "source": [
    "#Train and evaluate the model for 50 times using 100 epochs.\n",
    "error_score_nor_100=[]\n",
    "for i in range(50):\n",
    "    model.fit(X_train_nor, y_train_nor, epochs=100, verbose=0)\n",
    "    y_predict_nor=model.predict(X_test_nor)\n",
    "    error_score_nor_100.append(mean_squared_error(y_test_nor,y_predict_nor))"
   ]
  },
  {
   "cell_type": "code",
   "execution_count": 29,
   "metadata": {},
   "outputs": [],
   "source": [
    "Mean_nor_100 = np.mean(error_score_nor_100)\n",
    "Std_nor_100 = np.std(error_score_nor_100)"
   ]
  },
  {
   "cell_type": "code",
   "execution_count": 30,
   "metadata": {},
   "outputs": [
    {
     "name": "stdout",
     "output_type": "stream",
     "text": [
      "The mean of mean_squared_error_nor using 50 epochs is : 0.136, while using 100 epochs is 0.117\n",
      "The standard deviation of mean_squared_error_nor using 50 epochs is : 0.035, while using 100 epochs is 0.001\n"
     ]
    }
   ],
   "source": [
    "print('The mean of mean_squared_error_nor using 50 epochs is : {:.3f}, while using 100 epochs is {:.3f}\\nThe standard deviation of mean_squared_error_nor using 50 epochs is : {:.3f}, while using 100 epochs is {:.3f}'.format(Mean_nor, Mean_nor_100, Std_nor, Std_nor_100))"
   ]
  },
  {
   "cell_type": "markdown",
   "metadata": {},
   "source": [
    "**How does the mean squared of error compared to Part B ?**\n",
    "\n",
    "The accuracy is increased as the epochs increased by applying equation  accuracy=1−loss.\n",
    "The behaviour is more uniform as we can see from the standard deviation of Part C is less than Part B. "
   ]
  },
  {
   "cell_type": "markdown",
   "metadata": {},
   "source": [
    "## Part D _ 3 hidden layers"
   ]
  },
  {
   "cell_type": "markdown",
   "metadata": {},
   "source": [
    "#### Building the model"
   ]
  },
  {
   "cell_type": "code",
   "execution_count": 31,
   "metadata": {},
   "outputs": [],
   "source": [
    "# Three hidden layers with 10 nodes and relu function\n",
    "# adam optimizer and mean_squared_error as loss function\n",
    "def regression_model_modified():\n",
    "    # create model\n",
    "    model = Sequential()\n",
    "    model.add(Dense(10, activation='relu', input_shape=(n_cols,)))\n",
    "    model.add(Dense(10, activation='relu'))\n",
    "    model.add(Dense(10, activation='relu'))\n",
    "    model.add(Dense(1))\n",
    "    \n",
    "    # compile model\n",
    "    model.compile(optimizer='adam', loss='mean_squared_error')\n",
    "    return model"
   ]
  },
  {
   "cell_type": "code",
   "execution_count": 32,
   "metadata": {},
   "outputs": [],
   "source": [
    "#build the model and fitting the data with normalized dataset and 50 epochs\n",
    "model_modified = regression_model_modified()"
   ]
  },
  {
   "cell_type": "code",
   "execution_count": 33,
   "metadata": {},
   "outputs": [],
   "source": [
    "#Train and evaluate the model for 50 times using 50 epochs.\n",
    "error_score_nor_3layers=[]\n",
    "for i in range(50):\n",
    "    model_modified.fit(X_train_nor, y_train_nor, epochs=50, verbose=0)\n",
    "    y_predict_nor=model_modified.predict(X_test_nor)\n",
    "    error_score_nor_3layers.append(mean_squared_error(y_test_nor,y_predict_nor))"
   ]
  },
  {
   "cell_type": "code",
   "execution_count": 34,
   "metadata": {},
   "outputs": [],
   "source": [
    "Mean_nor_3layers=np.mean(error_score_nor_3layers)\n",
    "Std_nor_3layers=np.std(error_score_nor_3layers)"
   ]
  },
  {
   "cell_type": "code",
   "execution_count": 36,
   "metadata": {},
   "outputs": [
    {
     "name": "stdout",
     "output_type": "stream",
     "text": [
      "The mean of mean_squared_error_nor using 1 hidden layer is : 0.136, while using 3 hidden layers is 0.129\n",
      "The standard deviation of mean_squared_error_nor using 1 hidden layer is : 0.035, while using 3 hidden layers is 0.022\n"
     ]
    }
   ],
   "source": [
    "print('The mean of mean_squared_error_nor using 1 hidden layer is : {:.3f}, while using 3 hidden layers is {:.3f}\\nThe standard deviation of mean_squared_error_nor using 1 hidden layer is : {:.3f}, while using 3 hidden layers is {:.3f}'.format(Mean_nor, Mean_nor_3layers, Std_nor, Std_nor_3layers))"
   ]
  },
  {
   "cell_type": "markdown",
   "metadata": {},
   "source": [
    "**How does the mean squared of error compared to Part B ?**\n",
    "\n",
    "The accuracy in Part D is increased and more uniform than in part B. \n",
    "So increasing hidden layers may increase the accuracy of model and its realibility."
   ]
  },
  {
   "cell_type": "code",
   "execution_count": null,
   "metadata": {},
   "outputs": [],
   "source": []
  }
 ],
 "metadata": {
  "kernelspec": {
   "display_name": "Python",
   "language": "python",
   "name": "conda-env-python-py"
  },
  "language_info": {
   "codemirror_mode": {
    "name": "ipython",
    "version": 3
   },
   "file_extension": ".py",
   "mimetype": "text/x-python",
   "name": "python",
   "nbconvert_exporter": "python",
   "pygments_lexer": "ipython3",
   "version": "3.6.10"
  }
 },
 "nbformat": 4,
 "nbformat_minor": 4
}
